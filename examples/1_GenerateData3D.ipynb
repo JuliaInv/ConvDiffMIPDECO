{
 "cells": [
  {
   "cell_type": "code",
   "execution_count": null,
   "metadata": {},
   "outputs": [],
   "source": [
    "using ConvDiffMIPDECO\n",
    "using PyPlot\n",
    "using jInv.Mesh\n",
    "using jInv.ForwardShare\n",
    "using jInv.InverseSolve\n",
    "using jInvVis\n",
    "using jInv.LinearSolvers\n",
    "using MAT\n",
    "\n",
    "Pkg.dir(\"jInv\")"
   ]
  },
  {
   "cell_type": "code",
   "execution_count": null,
   "metadata": {},
   "outputs": [],
   "source": [
    "filename= \"Sources3D.mat\"\n",
    "file = matread(filename)\n",
    "wtrue = vec(file[\"W\"]) ## Sources on finest mesh\n",
    "domain = file[\"domain\"]\n",
    "m      = vec(file[\"m\"])\n",
    "\n",
    "M      = getRegularMesh(domain,m)\n",
    "\n",
    "m"
   ]
  },
  {
   "cell_type": "code",
   "execution_count": null,
   "metadata": {},
   "outputs": [],
   "source": [
    "rec = rand(100,2) .*[domain[2] domain[4] ]\n",
    "plotGrid(M,spacing=M.n);\n",
    "for k=1:size(rec,1)\n",
    "    plot3D(ones(2)*rec[k,1],ones(2)*rec[k,2],[0;domain[6]],\"-r\")\n",
    "end\n",
    "axis(\"equal\")\n",
    "xlabel(\"x\")\n",
    "ylabel(\"y\")\n",
    "zlabel(\"z\")\n",
    "title(\"measurement locations\")"
   ]
  },
  {
   "cell_type": "code",
   "execution_count": null,
   "metadata": {},
   "outputs": [],
   "source": [
    "Ainv = getMUMPSsolver()\n",
    "Ainv.ooc = 0\n",
    "dump(Ainv)"
   ]
  },
  {
   "cell_type": "code",
   "execution_count": null,
   "metadata": {},
   "outputs": [],
   "source": [
    "# build linear interpolation matrix from nodes to receiver locations\n",
    "x1c,x2c,x3c = getCellCenteredAxes(M)\n",
    "rec3D = [kron(ones(length(x3c)),rec) kron(x3c,ones(size(rec,1)))]\n",
    "\n",
    "x1,x2,x3 = getNodalAxes(M)\n",
    "P = interpmat(x1,x2,x3, rec3D);\n",
    "\n",
    "# build param that holds forward problem\n",
    "pFor = getConvDiffFEMParam(M,Ainv=Ainv,P=P);\n",
    "dtrue, pFor = getData(vec(wtrue),pFor);\n",
    "utrue = pFor.Fields\n",
    "\n"
   ]
  },
  {
   "cell_type": "code",
   "execution_count": null,
   "metadata": {},
   "outputs": [],
   "source": [
    "\n",
    "file[\"utrue\"]  = reshape(utrue,tuple(M.n+1...));\n",
    "file[\"dtrue\"]  = dtrue\n",
    "file[\"rec\"]    = rec\n",
    "file[\"sig\"]    = pFor.sig\n",
    "file[\"v\"]      = pFor.v\n",
    "\n",
    "matwrite(filename,file)"
   ]
  },
  {
   "cell_type": "code",
   "execution_count": null,
   "metadata": {},
   "outputs": [],
   "source": []
  },
  {
   "cell_type": "code",
   "execution_count": null,
   "metadata": {},
   "outputs": [],
   "source": []
  }
 ],
 "metadata": {
  "kernelspec": {
   "display_name": "Julia 0.6.2",
   "language": "julia",
   "name": "julia-0.6"
  },
  "language_info": {
   "file_extension": ".jl",
   "mimetype": "application/julia",
   "name": "julia",
   "version": "0.6.2"
  }
 },
 "nbformat": 4,
 "nbformat_minor": 2
}
